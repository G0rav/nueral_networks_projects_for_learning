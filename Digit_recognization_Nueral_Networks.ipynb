{
  "nbformat": 4,
  "nbformat_minor": 0,
  "metadata": {
    "colab": {
      "name": "Digit_recognization_Nueral_Networks.ipynb",
      "provenance": [],
      "collapsed_sections": []
    },
    "kernelspec": {
      "name": "python3",
      "display_name": "Python 3"
    }
  },
  "cells": [
    {
      "cell_type": "code",
      "metadata": {
        "id": "OPAgXG3zXmrz",
        "colab_type": "code",
        "colab": {}
      },
      "source": [
        "import numpy as np\n",
        "import matplotlib.pyplot as plt\n",
        "from keras import datasets\n",
        "from keras.utils import normalize, np_utils\n",
        "from keras.models import Sequential\n",
        "from keras.layers import Dense, Flatten\n",
        "%matplotlib inline"
      ],
      "execution_count": 66,
      "outputs": []
    },
    {
      "cell_type": "code",
      "metadata": {
        "id": "XoaFUl7UXx6L",
        "colab_type": "code",
        "colab": {}
      },
      "source": [
        "mnist = datasets.mnist"
      ],
      "execution_count": 50,
      "outputs": []
    },
    {
      "cell_type": "code",
      "metadata": {
        "id": "Apb4whpCdp6Q",
        "colab_type": "code",
        "colab": {
          "base_uri": "https://localhost:8080/",
          "height": 255
        },
        "outputId": "afe40606-4ce9-4e7b-9599-c2c1492fea20"
      },
      "source": [
        "dir(mnist)"
      ],
      "execution_count": 3,
      "outputs": [
        {
          "output_type": "execute_result",
          "data": {
            "text/plain": [
              "['__builtins__',\n",
              " '__cached__',\n",
              " '__doc__',\n",
              " '__file__',\n",
              " '__loader__',\n",
              " '__name__',\n",
              " '__package__',\n",
              " '__spec__',\n",
              " 'absolute_import',\n",
              " 'division',\n",
              " 'get_file',\n",
              " 'load_data',\n",
              " 'np',\n",
              " 'print_function']"
            ]
          },
          "metadata": {
            "tags": []
          },
          "execution_count": 3
        }
      ]
    },
    {
      "cell_type": "code",
      "metadata": {
        "id": "6tWCICCOd7Vy",
        "colab_type": "code",
        "colab": {
          "base_uri": "https://localhost:8080/",
          "height": 221
        },
        "outputId": "bb38ca47-6de3-4f87-fa08-76a7037afeac"
      },
      "source": [
        "help(mnist.load_data)"
      ],
      "execution_count": 10,
      "outputs": [
        {
          "output_type": "stream",
          "text": [
            "Help on function load_data in module keras.datasets.mnist:\n",
            "\n",
            "load_data(path='mnist.npz')\n",
            "    Loads the MNIST dataset.\n",
            "    \n",
            "    # Arguments\n",
            "        path: path where to cache the dataset locally\n",
            "            (relative to ~/.keras/datasets).\n",
            "    \n",
            "    # Returns\n",
            "        Tuple of Numpy arrays: `(x_train, y_train), (x_test, y_test)`.\n",
            "\n"
          ],
          "name": "stdout"
        }
      ]
    },
    {
      "cell_type": "code",
      "metadata": {
        "id": "zPBCf9swd7Hi",
        "colab_type": "code",
        "colab": {}
      },
      "source": [
        ""
      ],
      "execution_count": null,
      "outputs": []
    },
    {
      "cell_type": "code",
      "metadata": {
        "id": "p822qv4cXx3i",
        "colab_type": "code",
        "colab": {}
      },
      "source": [
        "(train_data, train_labels), (test_data, test_labels) = mnist.load_data()"
      ],
      "execution_count": 5,
      "outputs": []
    },
    {
      "cell_type": "code",
      "metadata": {
        "id": "z7CRddGPXx03",
        "colab_type": "code",
        "colab": {
          "base_uri": "https://localhost:8080/",
          "height": 85
        },
        "outputId": "d9a1ad5f-e825-497f-d924-3e0eb18ccfcd"
      },
      "source": [
        "print('train data shape:',train_data.shape)\n",
        "print('train labels shape:',train_labels.shape)\n",
        "print('test data shape:',test_data.shape)\n",
        "print('test labels shape:',test_labels.shape)"
      ],
      "execution_count": 11,
      "outputs": [
        {
          "output_type": "stream",
          "text": [
            "train data shape: (60000, 28, 28)\n",
            "train labels shape: (60000,)\n",
            "test data shape: (10000, 28, 28)\n",
            "test labels shape: (10000,)\n"
          ],
          "name": "stdout"
        }
      ]
    },
    {
      "cell_type": "code",
      "metadata": {
        "id": "UHpQD0BLXxtJ",
        "colab_type": "code",
        "colab": {
          "base_uri": "https://localhost:8080/",
          "height": 716
        },
        "outputId": "66f8b9e1-837a-4110-b7fb-39a4a9a296e5"
      },
      "source": [
        "fig, ax = plt.subplots(3,3, figsize=(12,12))\n",
        "\n",
        "k = 0\n",
        "for i in range(3):\n",
        "  for j in range(3):\n",
        "    ax[i,j].imshow(train_data[k], cmap = plt.cm.binary)\n",
        "    ax[i,j].set_title('digit {}'.format(train_labels[k]) )\n",
        "    k+=1\n",
        "plt.show()"
      ],
      "execution_count": 45,
      "outputs": [
        {
          "output_type": "display_data",
          "data": {
            "image/png": "[encoded data removed]",
            "text/plain": [
              "<Figure size 864x864 with 9 Axes>"
            ]
          },
          "metadata": {
            "tags": [],
            "needs_background": "light"
          }
        }
      ]
    },
    {
      "cell_type": "code",
      "metadata": {
        "id": "R67BAtv7gGYy",
        "colab_type": "code",
        "colab": {}
      },
      "source": [
        "x_train = normalize(train_data, axis = 1)\n",
        "x_test = normalize(test_data,axis = 1)\n",
        "y_train = np_utils.to_categorical(train_labels)\n",
        "y_test = np_utils.to_categorical(test_labels)"
      ],
      "execution_count": 70,
      "outputs": []
    },
    {
      "cell_type": "code",
      "metadata": {
        "id": "DvoPsZQDm8B9",
        "colab_type": "code",
        "colab": {
          "base_uri": "https://localhost:8080/",
          "height": 34
        },
        "outputId": "a1d3e6a0-fbca-4d8e-df6d-d058b7d30863"
      },
      "source": [
        "y_train.shape"
      ],
      "execution_count": 69,
      "outputs": [
        {
          "output_type": "execute_result",
          "data": {
            "text/plain": [
              "(60000, 10)"
            ]
          },
          "metadata": {
            "tags": []
          },
          "execution_count": 69
        }
      ]
    },
    {
      "cell_type": "code",
      "metadata": {
        "id": "6FTDsdq9r5Eo",
        "colab_type": "code",
        "colab": {}
      },
      "source": [
        ""
      ],
      "execution_count": null,
      "outputs": []
    },
    {
      "cell_type": "code",
      "metadata": {
        "id": "KJaSQ3Rpr5CM",
        "colab_type": "code",
        "colab": {}
      },
      "source": [
        ""
      ],
      "execution_count": null,
      "outputs": []
    },
    {
      "cell_type": "code",
      "metadata": {
        "id": "oumD52V5r4_Q",
        "colab_type": "code",
        "colab": {}
      },
      "source": [
        ""
      ],
      "execution_count": null,
      "outputs": []
    },
    {
      "cell_type": "code",
      "metadata": {
        "id": "7GiclEOBm78x",
        "colab_type": "code",
        "colab": {}
      },
      "source": [
        ""
      ],
      "execution_count": null,
      "outputs": []
    },
    {
      "cell_type": "code",
      "metadata": {
        "id": "INR8DkyqgGUC",
        "colab_type": "code",
        "colab": {}
      },
      "source": [
        "model = Sequential()\n",
        "#Hidden layers\n",
        "model.add(Flatten())\n",
        "model.add(Dense(50, activation='relu'))\n",
        "model.add(Dense(50, activation='relu'))\n",
        "#output layer\n",
        "model.add(Dense(10, activation='softmax'))"
      ],
      "execution_count": 73,
      "outputs": []
    },
    {
      "cell_type": "code",
      "metadata": {
        "id": "oAsiQ201gGRW",
        "colab_type": "code",
        "colab": {
          "base_uri": "https://localhost:8080/",
          "height": 187
        },
        "outputId": "768b1000-dbd9-41b4-b137-e9f5ac51187d"
      },
      "source": [
        "#compile model\n",
        "model.compile(optimizer = \"adam\" , loss = 'categorical_crossentropy' , metrics = ['accuracy'])\n",
        "model.fit(x_train,y_train,epochs = 5)"
      ],
      "execution_count": 75,
      "outputs": [
        {
          "output_type": "stream",
          "text": [
            "Epoch 1/5\n",
            "60000/60000 [==============================] - 5s 76us/step - loss: 0.0380 - accuracy: 0.9873\n",
            "Epoch 2/5\n",
            "60000/60000 [==============================] - 5s 76us/step - loss: 0.0288 - accuracy: 0.9905\n",
            "Epoch 3/5\n",
            "60000/60000 [==============================] - 5s 79us/step - loss: 0.0240 - accuracy: 0.9917\n",
            "Epoch 4/5\n",
            "60000/60000 [==============================] - 5s 75us/step - loss: 0.0186 - accuracy: 0.9938\n",
            "Epoch 5/5\n",
            "60000/60000 [==============================] - 5s 76us/step - loss: 0.0174 - accuracy: 0.9938\n"
          ],
          "name": "stdout"
        }
      ]
    },
    {
      "cell_type": "code",
      "metadata": {
        "id": "izJ0lDkKgGO4",
        "colab_type": "code",
        "colab": {
          "base_uri": "https://localhost:8080/",
          "height": 68
        },
        "outputId": "edc929cb-57e7-4efd-9b9c-da2de7b5b39f"
      },
      "source": [
        "predictions = model.predict(x_test)\n",
        "predictions[0]"
      ],
      "execution_count": 81,
      "outputs": [
        {
          "output_type": "execute_result",
          "data": {
            "text/plain": [
              "array([8.3096419e-11, 5.2693995e-12, 7.3396045e-10, 2.7924507e-09,\n",
              "       3.3868855e-13, 2.3159469e-12, 3.1776041e-16, 1.0000000e+00,\n",
              "       1.5666148e-12, 4.7789104e-08], dtype=float32)"
            ]
          },
          "metadata": {
            "tags": []
          },
          "execution_count": 81
        }
      ]
    },
    {
      "cell_type": "code",
      "metadata": {
        "id": "7uXT9GEgtIhg",
        "colab_type": "code",
        "colab": {
          "base_uri": "https://localhost:8080/",
          "height": 51
        },
        "outputId": "e26feea6-7726-43ba-9e3f-8eedcc2a45cd"
      },
      "source": [
        "print('Actual digit',y_test[0])\n",
        "print('Predicted digit',np.argmax(predictions[0]))"
      ],
      "execution_count": 83,
      "outputs": [
        {
          "output_type": "stream",
          "text": [
            "Actual digit [0. 0. 0. 0. 0. 0. 0. 1. 0. 0.]\n",
            "Predicted digit 7\n"
          ],
          "name": "stdout"
        }
      ]
    },
    {
      "cell_type": "code",
      "metadata": {
        "id": "KtwXqIITtW63",
        "colab_type": "code",
        "colab": {
          "base_uri": "https://localhost:8080/",
          "height": 51
        },
        "outputId": "956cf4c9-eac5-483f-9994-632d74fa5d1d"
      },
      "source": [
        "val_loss, val_acc = model.evaluate(x_test, y_test)\n",
        "print(val_loss, val_acc)"
      ],
      "execution_count": 84,
      "outputs": [
        {
          "output_type": "stream",
          "text": [
            "10000/10000 [==============================] - 0s 30us/step\n",
            "0.11581807036018872 0.9722999930381775\n"
          ],
          "name": "stdout"
        }
      ]
    },
    {
      "cell_type": "code",
      "metadata": {
        "id": "ClPnZaK0uFaS",
        "colab_type": "code",
        "colab": {}
      },
      "source": [
        ""
      ],
      "execution_count": null,
      "outputs": []
    },
    {
      "cell_type": "code",
      "metadata": {
        "id": "ed1xbZ5vuFXn",
        "colab_type": "code",
        "colab": {}
      },
      "source": [
        ""
      ],
      "execution_count": null,
      "outputs": []
    }
  ]
}